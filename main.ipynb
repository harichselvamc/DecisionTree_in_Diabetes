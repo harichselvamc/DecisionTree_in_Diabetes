{
 "cells": [
  {
   "cell_type": "markdown",
   "metadata": {},
   "source": [
    "# Diabetes dataset"
   ]
  },
  {
   "cell_type": "code",
   "execution_count": 3,
   "metadata": {
    "vscode": {
     "languageId": "r"
    }
   },
   "outputs": [],
   "source": [
    "#import dataset \n",
    "\n",
    "dataset=read.csv(\"diabetes.csv\")\n"
   ]
  },
  {
   "cell_type": "code",
   "execution_count": 4,
   "metadata": {
    "vscode": {
     "languageId": "r"
    }
   },
   "outputs": [
    {
     "name": "stdout",
     "output_type": "stream",
     "text": [
      "'data.frame':\t100 obs. of  9 variables:\n",
      " $ No_of_times_pregnant      : int  10 1 1 4 7 5 3 6 0 1 ...\n",
      " $ Glucose_concentration     : int  138 173 167 174 198 84 107 111 200 163 ...\n",
      " $ Blood_pressure            : int  101 116 67 108 68 79 110 93 85 82 ...\n",
      " $ Skin_fold_thickness       : int  21 11 23 10 13 38 38 16 14 20 ...\n",
      " $ X2_hour_serum_insulin     : int  24 29 14 30 6 52 32 27 44 41 ...\n",
      " $ BMI                       : int  46 50 23 22 46 43 25 26 47 22 ...\n",
      " $ Diabetes_pedigree_function: num  0.9 0.03 0.16 0.31 0.2 1.38 1.06 0.1 1.52 1.51 ...\n",
      " $ Age                       : int  45 58 26 22 72 34 68 75 30 54 ...\n",
      " $ Is_diabetic               : chr  \"No\" \"No\" \"Yes\" \"No\" ...\n"
     ]
    }
   ],
   "source": [
    "str(dataset)"
   ]
  },
  {
   "cell_type": "code",
   "execution_count": 5,
   "metadata": {
    "vscode": {
     "languageId": "r"
    }
   },
   "outputs": [
    {
     "data": {
      "text/plain": [
       " No_of_times_pregnant Glucose_concentration Blood_pressure  \n",
       " Min.   : 0.00        Min.   : 70.00        Min.   : 60.00  \n",
       " 1st Qu.: 3.00        1st Qu.: 95.75        1st Qu.: 73.75  \n",
       " Median : 5.00        Median :128.50        Median : 87.00  \n",
       " Mean   : 5.48        Mean   :130.81        Mean   : 88.35  \n",
       " 3rd Qu.: 8.00        3rd Qu.:167.25        3rd Qu.:103.00  \n",
       " Max.   :10.00        Max.   :200.00        Max.   :120.00  \n",
       " Skin_fold_thickness X2_hour_serum_insulin      BMI       \n",
       " Min.   :10.00       Min.   : 5.00         Min.   :18.00  \n",
       " 1st Qu.:15.75       1st Qu.:21.75         1st Qu.:24.75  \n",
       " Median :26.00       Median :36.00         Median :32.50  \n",
       " Mean   :27.83       Mean   :34.34         Mean   :33.31  \n",
       " 3rd Qu.:37.25       3rd Qu.:46.00         3rd Qu.:42.00  \n",
       " Max.   :50.00       Max.   :60.00         Max.   :50.00  \n",
       " Diabetes_pedigree_function      Age        Is_diabetic       \n",
       " Min.   :0.0300             Min.   :21.00   Length:100        \n",
       " 1st Qu.:0.3700             1st Qu.:33.00   Class :character  \n",
       " Median :1.0350             Median :49.50   Mode  :character  \n",
       " Mean   :0.9759             Mean   :48.72                     \n",
       " 3rd Qu.:1.5100             3rd Qu.:64.25                     \n",
       " Max.   :1.9700             Max.   :80.00                     "
      ]
     },
     "metadata": {},
     "output_type": "display_data"
    }
   ],
   "source": [
    "summary(dataset)"
   ]
  },
  {
   "cell_type": "code",
   "execution_count": 7,
   "metadata": {
    "vscode": {
     "languageId": "r"
    }
   },
   "outputs": [],
   "source": [
    "#split \n",
    "\n",
    "#install.packages(\"caTools\")\n",
    "library(\"caTools\")\n",
    "split=sample.split(dataset$Is_diabetic,SplitRatio = 0.7)"
   ]
  },
  {
   "cell_type": "code",
   "execution_count": 8,
   "metadata": {
    "vscode": {
     "languageId": "r"
    }
   },
   "outputs": [],
   "source": [
    "training_set=subset(dataset,split==T)"
   ]
  },
  {
   "cell_type": "code",
   "execution_count": 9,
   "metadata": {
    "vscode": {
     "languageId": "r"
    }
   },
   "outputs": [],
   "source": [
    "testing_set=subset(dataset,split==F)"
   ]
  },
  {
   "cell_type": "markdown",
   "metadata": {},
   "source": [
    "# Fitting decision tree with training set"
   ]
  },
  {
   "cell_type": "code",
   "execution_count": 10,
   "metadata": {
    "vscode": {
     "languageId": "r"
    }
   },
   "outputs": [],
   "source": [
    "#install.packages(\"rpart\")\n",
    "\n",
    "library(\"rpart\")"
   ]
  },
  {
   "cell_type": "code",
   "execution_count": 11,
   "metadata": {
    "vscode": {
     "languageId": "r"
    }
   },
   "outputs": [],
   "source": [
    "classifier=rpart(Is_diabetic~.,data = training_set)"
   ]
  },
  {
   "cell_type": "markdown",
   "metadata": {},
   "source": [
    "# Plotting"
   ]
  },
  {
   "cell_type": "code",
   "execution_count": 17,
   "metadata": {
    "vscode": {
     "languageId": "r"
    }
   },
   "outputs": [
    {
     "data": {
      "image/png": "[encoded data removed]",
      "text/plain": [
       "plot without title"
      ]
     },
     "metadata": {
      "image/png": {
       "height": 420,
       "width": 420
      }
     },
     "output_type": "display_data"
    }
   ],
   "source": [
    "plot(classifier)\n",
    "text(classifier)"
   ]
  },
  {
   "cell_type": "code",
   "execution_count": 20,
   "metadata": {
    "vscode": {
     "languageId": "r"
    }
   },
   "outputs": [],
   "source": [
    "#another method \n",
    "\n",
    "# install.packages(\"rpart.plot\")\n",
    "\n",
    "library(\"rpart.plot\")\n"
   ]
  },
  {
   "cell_type": "code",
   "execution_count": 25,
   "metadata": {
    "vscode": {
     "languageId": "r"
    }
   },
   "outputs": [
    {
     "data": {
      "image/png": "[encoded data removed]",
      "text/plain": [
       "plot without title"
      ]
     },
     "metadata": {
      "image/png": {
       "height": 420,
       "width": 420
      }
     },
     "output_type": "display_data"
    }
   ],
   "source": [
    "rpart.plot(classifier,type=3)"
   ]
  },
  {
   "cell_type": "markdown",
   "metadata": {},
   "source": [
    "# Predictions"
   ]
  },
  {
   "cell_type": "code",
   "execution_count": 27,
   "metadata": {
    "vscode": {
     "languageId": "r"
    }
   },
   "outputs": [],
   "source": [
    "y_predicition=predict(classifier,newdata = testing_set,type = \"class\")"
   ]
  },
  {
   "cell_type": "code",
   "execution_count": 28,
   "metadata": {
    "vscode": {
     "languageId": "r"
    }
   },
   "outputs": [
    {
     "data": {
      "text/html": [
       "<style>\n",
       ".dl-inline {width: auto; margin:0; padding: 0}\n",
       ".dl-inline>dt, .dl-inline>dd {float: none; width: auto; display: inline-block}\n",
       ".dl-inline>dt::after {content: \":\\0020\"; padding-right: .5ex}\n",
       ".dl-inline>dt:not(:first-of-type) {padding-left: .5ex}\n",
       "</style><dl class=dl-inline><dt>2</dt><dd>No</dd><dt>7</dt><dd>Yes</dd><dt>9</dt><dd>No</dd><dt>18</dt><dd>Yes</dd><dt>23</dt><dd>No</dd><dt>24</dt><dd>No</dd></dl>\n",
       "\n",
       "<details>\n",
       "\t<summary style=display:list-item;cursor:pointer>\n",
       "\t\t<strong>Levels</strong>:\n",
       "\t</summary>\n",
       "\t<style>\n",
       "\t.list-inline {list-style: none; margin:0; padding: 0}\n",
       "\t.list-inline>li {display: inline-block}\n",
       "\t.list-inline>li:not(:last-child)::after {content: \"\\00b7\"; padding: 0 .5ex}\n",
       "\t</style>\n",
       "\t<ol class=list-inline><li>'No'</li><li>'Yes'</li></ol>\n",
       "</details>"
      ],
      "text/latex": [
       "\\begin{description*}\n",
       "\\item[2] No\n",
       "\\item[7] Yes\n",
       "\\item[9] No\n",
       "\\item[18] Yes\n",
       "\\item[23] No\n",
       "\\item[24] No\n",
       "\\end{description*}\n",
       "\n",
       "\\emph{Levels}: \\begin{enumerate*}\n",
       "\\item 'No'\n",
       "\\item 'Yes'\n",
       "\\end{enumerate*}\n"
      ],
      "text/markdown": [
       "2\n",
       ":   No7\n",
       ":   Yes9\n",
       ":   No18\n",
       ":   Yes23\n",
       ":   No24\n",
       ":   No\n",
       "\n",
       "\n",
       "**Levels**: 1. 'No'\n",
       "2. 'Yes'\n",
       "\n",
       "\n"
      ],
      "text/plain": [
       "  2   7   9  18  23  24 \n",
       " No Yes  No Yes  No  No \n",
       "Levels: No Yes"
      ]
     },
     "metadata": {},
     "output_type": "display_data"
    }
   ],
   "source": [
    "head(y_predicition)"
   ]
  },
  {
   "cell_type": "markdown",
   "metadata": {},
   "source": [
    "# confusion Matrix"
   ]
  },
  {
   "cell_type": "code",
   "execution_count": 31,
   "metadata": {
    "vscode": {
     "languageId": "r"
    }
   },
   "outputs": [],
   "source": [
    "confusion=table(testing_set$Is_diabetic,y_predicition)"
   ]
  },
  {
   "cell_type": "code",
   "execution_count": 32,
   "metadata": {
    "vscode": {
     "languageId": "r"
    }
   },
   "outputs": [
    {
     "data": {
      "text/plain": [
       "     y_predicition\n",
       "      No Yes\n",
       "  No  11   5\n",
       "  Yes  8   6"
      ]
     },
     "metadata": {},
     "output_type": "display_data"
    }
   ],
   "source": [
    "confusion"
   ]
  }
 ],
 "metadata": {
  "kernelspec": {
   "display_name": "R",
   "language": "R",
   "name": "ir"
  },
  "language_info": {
   "codemirror_mode": "r",
   "file_extension": ".r",
   "mimetype": "text/x-r-source",
   "name": "R",
   "pygments_lexer": "r",
   "version": "4.3.2"
  }
 },
 "nbformat": 4,
 "nbformat_minor": 2
}
